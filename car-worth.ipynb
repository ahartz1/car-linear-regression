{
 "cells": [
  {
   "cell_type": "code",
   "execution_count": 1,
   "metadata": {
    "collapsed": true
   },
   "outputs": [],
   "source": [
    "import pandas as pd\n",
    "import matplotlib.pyplot as plt\n",
    "import numpy as np\n",
    "from sklearn import linear_model\n",
    "from itertools import combinations\n",
    "\n",
    "%matplotlib inline"
   ]
  },
  {
   "cell_type": "markdown",
   "metadata": {},
   "source": [
    "# How Much is Your Car Worth?\n",
    "\n",
    "Data about the retail price of 2005 General Motors cars can be found in `car_data.csv`.\n",
    "\n",
    "The columns are:\n",
    "\n",
    "1. Price: suggested retail price of the used 2005 GM car in excellent condition.\n",
    "2. Mileage: number of miles the car has been driven\n",
    "3. Make: manufacturer of the car such as Saturn, Pontiac, and Chevrolet\n",
    "4. Model: specific models for each car manufacturer such as Ion, Vibe, Cavalier\n",
    "5. Trim (of car): specific type of car model such as SE Sedan 4D, Quad Coupe 2D          \n",
    "6. Type: body type such as sedan, coupe, etc.      \n",
    "7. Cylinder: number of cylinders in the engine        \n",
    "8. Liter: a more specific measure of engine size     \n",
    "9. Doors: number of doors           \n",
    "10. Cruise: indicator variable representing whether the car has cruise control (1 = cruise)\n",
    "11. Sound: indicator variable representing whether the car has upgraded speakers (1 = upgraded)\n",
    "12. Leather: indicator variable representing whether the car has leather seats (1 = leather)\n",
    "\n",
    "## Tasks, Part 1\n",
    "\n",
    "1. Find the linear regression equation for mileage vs price.\n",
    "2. Chart the original data and the equation on the chart.\n",
    "3. Find the equation's $R^2$ score (use the `.score` method) to determine whether the\n",
    "equation is a good fit for this data. (0.8 and greater is considered a strong correlation.)"
   ]
  },
  {
   "cell_type": "code",
   "execution_count": 2,
   "metadata": {
    "collapsed": false
   },
   "outputs": [
    {
     "data": {
      "text/html": [
       "<div>\n",
       "<table border=\"1\" class=\"dataframe\">\n",
       "  <thead>\n",
       "    <tr style=\"text-align: right;\">\n",
       "      <th></th>\n",
       "      <th>Price</th>\n",
       "      <th>Mileage</th>\n",
       "      <th>Make</th>\n",
       "      <th>Model</th>\n",
       "      <th>Trim</th>\n",
       "      <th>Type</th>\n",
       "      <th>Cylinder</th>\n",
       "      <th>Liter</th>\n",
       "      <th>Doors</th>\n",
       "      <th>Cruise</th>\n",
       "      <th>Sound</th>\n",
       "      <th>Leather</th>\n",
       "    </tr>\n",
       "  </thead>\n",
       "  <tbody>\n",
       "    <tr>\n",
       "      <th>0</th>\n",
       "      <td>17314.103129</td>\n",
       "      <td>8221</td>\n",
       "      <td>Buick</td>\n",
       "      <td>Century</td>\n",
       "      <td>Sedan 4D</td>\n",
       "      <td>Sedan</td>\n",
       "      <td>6</td>\n",
       "      <td>3.1</td>\n",
       "      <td>4</td>\n",
       "      <td>1</td>\n",
       "      <td>1</td>\n",
       "      <td>1</td>\n",
       "    </tr>\n",
       "  </tbody>\n",
       "</table>\n",
       "</div>"
      ],
      "text/plain": [
       "          Price  Mileage   Make    Model      Trim   Type  Cylinder  Liter  \\\n",
       "0  17314.103129     8221  Buick  Century  Sedan 4D  Sedan         6    3.1   \n",
       "\n",
       "   Doors  Cruise  Sound  Leather  \n",
       "0      4       1      1        1  "
      ]
     },
     "execution_count": 2,
     "metadata": {},
     "output_type": "execute_result"
    }
   ],
   "source": [
    "df = pd.read_csv(\"car_data.csv\")\n",
    "df.head(1)"
   ]
  },
  {
   "cell_type": "markdown",
   "metadata": {},
   "source": [
    "#### Tasks, Part 1.1"
   ]
  },
  {
   "cell_type": "code",
   "execution_count": 3,
   "metadata": {
    "collapsed": false
   },
   "outputs": [
    {
     "name": "stdout",
     "output_type": "stream",
     "text": [
      "-0.17252050279124917 * Price + 24764.56\n"
     ]
    }
   ],
   "source": [
    "regr_mp = linear_model.LinearRegression()\n",
    "mileage = df[['Mileage']]\n",
    "price = df['Price']\n",
    "regr_mp.fit(mileage, price)\n",
    "print('{} * Price + {:.2f}'.format(regr_mp.coef_[0], regr_mp.intercept_))"
   ]
  },
  {
   "cell_type": "markdown",
   "metadata": {},
   "source": [
    "#### Tasks, Part 1.2"
   ]
  },
  {
   "cell_type": "code",
   "execution_count": 4,
   "metadata": {
    "collapsed": false
   },
   "outputs": [
    {
     "data": {
      "image/png": "[encoded data removed]",
      "text/plain": [
       "<matplotlib.figure.Figure at 0x113969198>"
      ]
     },
     "metadata": {},
     "output_type": "display_data"
    }
   ],
   "source": [
    "plt.scatter(x=mileage, y=price)\n",
    "plt.plot(mileage, regr_mp.predict(mileage))\n",
    "plt.title('Mileage vs Price')\n",
    "plt.xlabel('Mileage')\n",
    "plt.ylabel('Price')\n",
    "plt.show()"
   ]
  },
  {
   "cell_type": "markdown",
   "metadata": {},
   "source": [
    "#### Tasks, Part 1.3"
   ]
  },
  {
   "cell_type": "code",
   "execution_count": 5,
   "metadata": {
    "collapsed": false
   },
   "outputs": [
    {
     "name": "stdout",
     "output_type": "stream",
     "text": [
      "Score of linear regression: 0.02046\n"
     ]
    }
   ],
   "source": [
    "print('Score of linear regression: {:.5f}'\n",
    "      .format(regr_mp.score(mileage, price)))"
   ]
  },
  {
   "cell_type": "markdown",
   "metadata": {},
   "source": [
    "The score is nowhere near 0.8; this is not a good fit for our data."
   ]
  },
  {
   "cell_type": "markdown",
   "metadata": {},
   "source": [
    "## Tasks, Part 2\n",
    "\n",
    "1. Use mileage, cylinders, liters, doors, cruise, sound, and leather to find the linear regression equation.\n",
    "2. Find the equation's $R^2$ score (use the `.score` method) to determine whether the\n",
    "equation is a good fit for this data. (0.8 and greater is considered a strong correlation.)\n",
    "3. Find the combination of the factors that is the best predictor for price."
   ]
  },
  {
   "cell_type": "code",
   "execution_count": 6,
   "metadata": {
    "collapsed": false
   },
   "outputs": [
    {
     "data": {
      "text/html": [
       "<div>\n",
       "<table border=\"1\" class=\"dataframe\">\n",
       "  <thead>\n",
       "    <tr style=\"text-align: right;\">\n",
       "      <th></th>\n",
       "      <th>Price</th>\n",
       "      <th>Mileage</th>\n",
       "      <th>Make</th>\n",
       "      <th>Model</th>\n",
       "      <th>Trim</th>\n",
       "      <th>Type</th>\n",
       "      <th>Cylinder</th>\n",
       "      <th>Liter</th>\n",
       "      <th>Doors</th>\n",
       "      <th>Cruise</th>\n",
       "      <th>Sound</th>\n",
       "      <th>Leather</th>\n",
       "    </tr>\n",
       "  </thead>\n",
       "  <tbody>\n",
       "    <tr>\n",
       "      <th>0</th>\n",
       "      <td>17314.103129</td>\n",
       "      <td>8221</td>\n",
       "      <td>Buick</td>\n",
       "      <td>Century</td>\n",
       "      <td>Sedan 4D</td>\n",
       "      <td>Sedan</td>\n",
       "      <td>6</td>\n",
       "      <td>3.1</td>\n",
       "      <td>4</td>\n",
       "      <td>1</td>\n",
       "      <td>1</td>\n",
       "      <td>1</td>\n",
       "    </tr>\n",
       "  </tbody>\n",
       "</table>\n",
       "</div>"
      ],
      "text/plain": [
       "          Price  Mileage   Make    Model      Trim   Type  Cylinder  Liter  \\\n",
       "0  17314.103129     8221  Buick  Century  Sedan 4D  Sedan         6    3.1   \n",
       "\n",
       "   Doors  Cruise  Sound  Leather  \n",
       "0      4       1      1        1  "
      ]
     },
     "execution_count": 6,
     "metadata": {},
     "output_type": "execute_result"
    }
   ],
   "source": [
    "df.head(1)"
   ]
  },
  {
   "cell_type": "code",
   "execution_count": 7,
   "metadata": {
    "collapsed": true
   },
   "outputs": [],
   "source": [
    "car_features = ['Mileage', 'Cylinder', 'Liter', 'Doors', 'Cruise', 'Sound', 'Leather']\n"
   ]
  },
  {
   "cell_type": "code",
   "execution_count": 8,
   "metadata": {
    "collapsed": false
   },
   "outputs": [],
   "source": [
    "def lin_reg_eq(cols, df_in, focus='Price', print_this=False):\n",
    "    input_cols = df_in[cols]\n",
    "    focus_output = df_in[focus]\n",
    "    regr = linear_model.LinearRegression()\n",
    "    regr.fit(input_cols, focus_output)\n",
    "    if print_this:\n",
    "        print('The equation for columns {} w.r.t. {}:\\n'.format(cols, focus))\n",
    "        for n, x in enumerate(cols):\n",
    "            print('({} * {}) + '.format(regr.coef_[n], x))\n",
    "        print('{}'.format(regr.intercept_))\n",
    "    return regr"
   ]
  },
  {
   "cell_type": "markdown",
   "metadata": {},
   "source": [
    "#### Tasks, Part 2.1"
   ]
  },
  {
   "cell_type": "code",
   "execution_count": 9,
   "metadata": {
    "collapsed": false
   },
   "outputs": [
    {
     "name": "stdout",
     "output_type": "stream",
     "text": [
      "The equation for columns ['Mileage', 'Cylinder', 'Liter', 'Doors', 'Cruise', 'Sound', 'Leather'] w.r.t. Price:\n",
      "\n",
      "(-0.16974783233303684 * Mileage) + \n",
      "(3792.378930782511 * Cylinder) + \n",
      "(-787.2207316338249 * Liter) + \n",
      "(-1542.7458463820649 * Doors) + \n",
      "(6288.997149849927 * Cruise) + \n",
      "(-1993.7952756984305 * Sound) + \n",
      "(3349.361619613561 * Leather) + \n",
      "6758.755143598093\n"
     ]
    }
   ],
   "source": [
    "regr_features = lin_reg_eq(car_features, df, print_this=True)"
   ]
  },
  {
   "cell_type": "markdown",
   "metadata": {},
   "source": [
    "#### Tasks, Part 2.2"
   ]
  },
  {
   "cell_type": "code",
   "execution_count": 10,
   "metadata": {
    "collapsed": false
   },
   "outputs": [
    {
     "name": "stdout",
     "output_type": "stream",
     "text": [
      "Score of the above linear regression: 0.446264353672838\n"
     ]
    }
   ],
   "source": [
    "print('Score of the above linear regression: {}'\n",
    "      .format(regr_features.score(df[car_features], df['Price'])))"
   ]
  },
  {
   "cell_type": "code",
   "execution_count": 11,
   "metadata": {
    "collapsed": true
   },
   "outputs": [],
   "source": [
    "def lin_reg_wrt_focus(cols, df_in, focus='Price'):\n",
    "    input_cols = df_in[cols]\n",
    "    focus_output = df_in[focus]\n",
    "    regr = linear_model.LinearRegression()\n",
    "    regr.fit(input_cols, focus_output)\n",
    "    return regr.score(input_cols, focus_output)\n",
    "\n",
    "def get_combos(cols):\n",
    "    return [list(combinations(cols, n + 1)) for n in range(len(cols))]\n",
    "\n",
    "def all_combo_scores(combos, df_in, focus='Price'):\n",
    "    combo_scores = {}\n",
    "    for m in range(len(combos)):\n",
    "        for n in combos[m]:\n",
    "            combo_scores[n] = lin_reg_wrt_focus(list(n), df_in, focus)\n",
    "    return combo_scores"
   ]
  },
  {
   "cell_type": "markdown",
   "metadata": {},
   "source": [
    "#### Tasks, Part 2.3"
   ]
  },
  {
   "cell_type": "code",
   "execution_count": 12,
   "metadata": {
    "collapsed": false
   },
   "outputs": [
    {
     "name": "stdout",
     "output_type": "stream",
     "text": [
      "0.446264353673 ('Mileage', 'Cylinder', 'Liter', 'Doors', 'Cruise', 'Sound', 'Leather')\n",
      "0.445690921059 ('Mileage', 'Cylinder', 'Doors', 'Cruise', 'Sound', 'Leather')\n",
      "0.437805741537 ('Mileage', 'Cylinder', 'Liter', 'Doors', 'Cruise', 'Leather')\n",
      "0.436940215124 ('Mileage', 'Cylinder', 'Doors', 'Cruise', 'Leather')\n",
      "0.430141484065 ('Mileage', 'Cylinder', 'Liter', 'Cruise', 'Sound', 'Leather')\n",
      "0.430018204833 ('Mileage', 'Cylinder', 'Cruise', 'Sound', 'Leather')\n",
      "0.426534863781 ('Cylinder', 'Liter', 'Doors', 'Cruise', 'Sound', 'Leather')\n",
      "0.425768132797 ('Cylinder', 'Doors', 'Cruise', 'Sound', 'Leather')\n",
      "0.424828404543 ('Mileage', 'Liter', 'Doors', 'Cruise', 'Sound', 'Leather')\n",
      "0.42441824018 ('Mileage', 'Cylinder', 'Liter', 'Doors', 'Cruise', 'Sound')\n",
      "0.424097482585 ('Mileage', 'Cylinder', 'Doors', 'Cruise', 'Sound')\n",
      "0.42253076704 ('Mileage', 'Cylinder', 'Liter', 'Cruise', 'Leather')\n",
      "0.422507421477 ('Mileage', 'Cylinder', 'Cruise', 'Leather')\n",
      "0.41965804777 ('Mileage', 'Cylinder', 'Liter', 'Doors', 'Cruise')\n",
      "0.419149645107 ('Mileage', 'Cylinder', 'Doors', 'Cruise')\n",
      "0.418839421806 ('Cylinder', 'Liter', 'Doors', 'Cruise', 'Leather')\n",
      "0.417760273702 ('Cylinder', 'Doors', 'Cruise', 'Leather')\n",
      "0.416508049042 ('Mileage', 'Liter', 'Cruise', 'Sound', 'Leather')\n",
      "0.414009223163 ('Mileage', 'Liter', 'Doors', 'Cruise', 'Leather')\n",
      "0.410702952644 ('Cylinder', 'Liter', 'Cruise', 'Sound', 'Leather')\n",
      "0.410654941586 ('Cylinder', 'Cruise', 'Sound', 'Leather')\n",
      "0.40678789687 ('Mileage', 'Liter', 'Cruise', 'Leather')\n",
      "0.406549158658 ('Mileage', 'Cylinder', 'Liter', 'Cruise', 'Sound')\n",
      "0.406164498263 ('Mileage', 'Cylinder', 'Cruise', 'Sound')\n",
      "0.405092751506 ('Cylinder', 'Liter', 'Doors', 'Cruise', 'Sound')\n",
      "0.404623070987 ('Cylinder', 'Doors', 'Cruise', 'Sound')\n",
      "0.403803764258 ('Cylinder', 'Liter', 'Cruise', 'Leather')\n",
      "0.40380272694 ('Cylinder', 'Cruise', 'Leather')\n",
      "0.403463372084 ('Liter', 'Doors', 'Cruise', 'Sound', 'Leather')\n",
      "0.403121317021 ('Mileage', 'Liter', 'Doors', 'Cruise', 'Sound')\n",
      "0.402584261892 ('Mileage', 'Cylinder', 'Liter', 'Cruise')\n",
      "0.402374586032 ('Mileage', 'Cylinder', 'Cruise')\n",
      "0.400874869327 ('Cylinder', 'Liter', 'Doors', 'Cruise')\n",
      "0.400198907955 ('Cylinder', 'Doors', 'Cruise')\n",
      "0.396532669801 ('Mileage', 'Liter', 'Doors', 'Cruise')\n",
      "0.395642607366 ('Liter', 'Cruise', 'Sound', 'Leather')\n",
      "0.393468491422 ('Mileage', 'Liter', 'Cruise', 'Sound')\n",
      "0.39345887351 ('Liter', 'Doors', 'Cruise', 'Leather')\n",
      "0.387923983906 ('Mileage', 'Liter', 'Cruise')\n",
      "0.387543121674 ('Cylinder', 'Liter', 'Cruise', 'Sound')\n",
      "0.38730580223 ('Cylinder', 'Cruise', 'Sound')\n",
      "0.386655059377 ('Liter', 'Cruise', 'Leather')\n",
      "0.384062200852 ('Cylinder', 'Liter', 'Cruise')\n",
      "0.383949132403 ('Cylinder', 'Cruise')\n",
      "0.382715045002 ('Mileage', 'Cylinder', 'Liter', 'Doors', 'Sound', 'Leather')\n",
      "0.382585211793 ('Mileage', 'Cylinder', 'Doors', 'Sound', 'Leather')\n",
      "0.382180877766 ('Liter', 'Doors', 'Cruise', 'Sound')\n",
      "0.376191680535 ('Liter', 'Doors', 'Cruise')\n",
      "0.373074559614 ('Liter', 'Cruise', 'Sound')\n",
      "0.371366908902 ('Mileage', 'Cylinder', 'Liter', 'Doors', 'Leather')\n",
      "0.371331998385 ('Mileage', 'Cylinder', 'Doors', 'Leather')\n",
      "0.36804584903 ('Liter', 'Cruise')\n",
      "0.367715222627 ('Mileage', 'Cylinder', 'Liter', 'Doors', 'Sound')\n",
      "0.367499129697 ('Mileage', 'Cylinder', 'Doors', 'Sound')\n",
      "0.36529423284 ('Mileage', 'Cylinder', 'Liter', 'Sound', 'Leather')\n",
      "0.365169443951 ('Cylinder', 'Liter', 'Doors', 'Sound', 'Leather')\n",
      "0.365117003562 ('Cylinder', 'Doors', 'Sound', 'Leather')\n",
      "0.363291011747 ('Mileage', 'Liter', 'Doors', 'Sound', 'Leather')\n",
      "0.362784103786 ('Mileage', 'Cylinder', 'Sound', 'Leather')\n",
      "0.360125063303 ('Mileage', 'Cylinder', 'Liter', 'Doors')\n",
      "0.360029918965 ('Mileage', 'Cylinder', 'Doors')\n",
      "0.354940443056 ('Mileage', 'Cylinder', 'Liter', 'Leather')\n",
      "0.354706889409 ('Cylinder', 'Liter', 'Doors', 'Leather')\n",
      "0.354702613001 ('Cylinder', 'Doors', 'Leather')\n",
      "0.353631538185 ('Mileage', 'Liter', 'Sound', 'Leather')\n",
      "0.353035789318 ('Mileage', 'Cylinder', 'Leather')\n",
      "0.350381218161 ('Cylinder', 'Liter', 'Doors', 'Sound')\n",
      "0.350269933013 ('Cylinder', 'Doors', 'Sound')\n",
      "0.349405179718 ('Mileage', 'Liter', 'Doors', 'Leather')\n",
      "0.348854652244 ('Mileage', 'Cylinder', 'Liter', 'Sound')\n",
      "0.348302227867 ('Mileage', 'Liter', 'Doors', 'Sound')\n",
      "0.348055839375 ('Cylinder', 'Liter', 'Sound', 'Leather')\n",
      "0.345985332754 ('Cylinder', 'Sound', 'Leather')\n",
      "0.345793039452 ('Mileage', 'Cylinder', 'Sound')\n",
      "0.344239758076 ('Liter', 'Doors', 'Sound', 'Leather')\n",
      "0.343495478069 ('Cylinder', 'Liter', 'Doors')\n",
      "0.343460536583 ('Cylinder', 'Doors')\n",
      "0.342280211787 ('Mileage', 'Cylinder', 'Liter')\n",
      "0.341056916186 ('Mileage', 'Liter', 'Leather')\n",
      "0.339820708264 ('Mileage', 'Cylinder')\n",
      "0.338591027665 ('Mileage', 'Liter', 'Doors')\n",
      "0.338532693616 ('Cylinder', 'Liter', 'Leather')\n",
      "0.337525245264 ('Mileage', 'Liter', 'Sound')\n",
      "0.33698000645 ('Cylinder', 'Leather')\n",
      "0.335114070765 ('Liter', 'Sound', 'Leather')\n",
      "0.331848604532 ('Cylinder', 'Liter', 'Sound')\n",
      "0.331284453853 ('Liter', 'Doors', 'Leather')\n",
      "0.329471966991 ('Liter', 'Doors', 'Sound')\n",
      "0.32927527348 ('Cylinder', 'Sound')\n",
      "0.329127906685 ('Mileage', 'Liter')\n",
      "0.325915516016 ('Cylinder', 'Liter')\n",
      "0.323859037595 ('Cylinder',)\n",
      "0.323379171899 ('Liter', 'Leather')\n",
      "0.320515640777 ('Liter', 'Doors')\n",
      "0.319264276395 ('Liter', 'Sound')\n",
      "0.311526744279 ('Liter',)\n",
      "0.272825947676 ('Mileage', 'Doors', 'Cruise', 'Sound', 'Leather')\n",
      "0.259401385657 ('Mileage', 'Cruise', 'Sound', 'Leather')\n",
      "0.256654781261 ('Mileage', 'Doors', 'Cruise', 'Leather')\n",
      "0.247449134958 ('Doors', 'Cruise', 'Sound', 'Leather')\n",
      "0.244846434415 ('Mileage', 'Cruise', 'Leather')\n",
      "0.234644063405 ('Cruise', 'Sound', 'Leather')\n",
      "0.233369202886 ('Mileage', 'Doors', 'Cruise', 'Sound')\n",
      "0.232291202952 ('Doors', 'Cruise', 'Leather')\n",
      "0.223903140764 ('Mileage', 'Doors', 'Cruise')\n",
      "0.221004205218 ('Cruise', 'Leather')\n",
      "0.217216569068 ('Mileage', 'Cruise', 'Sound')\n",
      "0.209313855832 ('Mileage', 'Cruise')\n",
      "0.208353688885 ('Doors', 'Cruise', 'Sound')\n",
      "0.199638246892 ('Doors', 'Cruise')\n",
      "0.192889480669 ('Cruise', 'Sound')\n",
      "0.185633009297 ('Cruise',)\n",
      "0.0893370937937 ('Mileage', 'Doors', 'Sound', 'Leather')\n",
      "0.0696594062244 ('Mileage', 'Sound', 'Leather')\n",
      "0.0668731331619 ('Doors', 'Sound', 'Leather')\n",
      "0.0625639212199 ('Mileage', 'Doors', 'Leather')\n",
      "0.0592505439204 ('Mileage', 'Doors', 'Sound')\n",
      "0.0479536909208 ('Sound', 'Leather')\n",
      "0.0452195634089 ('Mileage', 'Leather')\n",
      "0.0414181734687 ('Doors', 'Leather')\n",
      "0.0403991486712 ('Mileage', 'Doors')\n",
      "0.037016287709 ('Doors', 'Sound')\n",
      "0.0368812159674 ('Mileage', 'Sound')\n",
      "0.0247108512641 ('Leather',)\n",
      "0.0204634473235 ('Mileage',)\n",
      "0.0192514665915 ('Doors',)\n",
      "0.0154623876242 ('Sound',)\n"
     ]
    }
   ],
   "source": [
    "combos = get_combos(car_features)\n",
    "combo_scores = all_combo_scores(combos, df)\n",
    "score_list1 = sorted(combo_scores.items(), key=lambda c: c[1], reverse=True)\n",
    "for score in score_list1:\n",
    "    print(score[1], score[0])"
   ]
  },
  {
   "cell_type": "markdown",
   "metadata": {},
   "source": [
    "#### Tasks, Part 2.3 Conclusion\n",
    "\n",
    "There is no combination that produces a strong correlation. However, the **`Cylinder`** field has a high score on its own: 0.32385903759512258."
   ]
  },
  {
   "cell_type": "markdown",
   "metadata": {},
   "source": [
    "## Tasks, Part 3\n",
    "\n",
    "1. Research dummy variables in scikit-learn to see how to use the make, model, and body type.\n",
    "2. Find the best combination of factors to predict price."
   ]
  },
  {
   "cell_type": "code",
   "execution_count": 13,
   "metadata": {
    "collapsed": false
   },
   "outputs": [
    {
     "name": "stdout",
     "output_type": "stream",
     "text": [
      "0.396143331952 ('Mileage', 'Cylinder', 'Doors', 'Cruise', 'Sound', 'Leather')\n",
      "0.396143331952 ('Mileage', 'Liter', 'Cruise', 'Sound', 'Leather')\n",
      "0.396143331952 ('Mileage', 'Cylinder', 'Cruise', 'Sound', 'Leather')\n",
      "0.396143331952 ('Mileage', 'Cruise', 'Sound', 'Leather')\n",
      "0.396143331952 ('Mileage', 'Liter', 'Doors', 'Cruise', 'Sound', 'Leather')\n",
      "0.396143331952 ('Mileage', 'Cylinder', 'Liter', 'Cruise', 'Sound', 'Leather')\n",
      "0.396143331952 ('Mileage', 'Doors', 'Cruise', 'Sound', 'Leather')\n",
      "0.396143331952 ('Mileage', 'Cylinder', 'Liter', 'Doors', 'Cruise', 'Sound', 'Leather')\n",
      "0.386857833257 ('Mileage', 'Liter', 'Sound', 'Leather')\n",
      "0.386857833257 ('Mileage', 'Sound', 'Leather')\n",
      "0.386857833257 ('Mileage', 'Liter', 'Doors', 'Sound', 'Leather')\n",
      "0.386857833257 ('Mileage', 'Cylinder', 'Liter', 'Doors', 'Sound', 'Leather')\n",
      "0.386857833257 ('Mileage', 'Cylinder', 'Doors', 'Sound', 'Leather')\n",
      "0.386857833257 ('Mileage', 'Cylinder', 'Liter', 'Sound', 'Leather')\n",
      "0.386857833257 ('Mileage', 'Doors', 'Sound', 'Leather')\n",
      "0.386857833257 ('Mileage', 'Cylinder', 'Sound', 'Leather')\n",
      "0.379498307195 ('Mileage', 'Cylinder', 'Liter', 'Doors', 'Cruise', 'Sound')\n",
      "0.379498307195 ('Mileage', 'Liter', 'Cruise', 'Sound')\n",
      "0.379498307195 ('Mileage', 'Doors', 'Cruise', 'Sound')\n",
      "0.379498307195 ('Mileage', 'Cruise', 'Sound')\n",
      "0.379498307195 ('Mileage', 'Cylinder', 'Cruise', 'Sound')\n",
      "0.379498307195 ('Mileage', 'Cylinder', 'Doors', 'Cruise', 'Sound')\n",
      "0.379498307195 ('Mileage', 'Liter', 'Doors', 'Cruise', 'Sound')\n",
      "0.379498307195 ('Mileage', 'Cylinder', 'Liter', 'Cruise', 'Sound')\n",
      "0.371445720109 ('Mileage', 'Liter', 'Doors', 'Cruise', 'Leather')\n",
      "0.371445720109 ('Mileage', 'Cylinder', 'Liter', 'Doors', 'Cruise', 'Leather')\n",
      "0.371445720109 ('Mileage', 'Cylinder', 'Liter', 'Cruise', 'Leather')\n",
      "0.371445720109 ('Mileage', 'Liter', 'Cruise', 'Leather')\n",
      "0.371445720109 ('Mileage', 'Cylinder', 'Doors', 'Cruise', 'Leather')\n",
      "0.371445720109 ('Mileage', 'Doors', 'Cruise', 'Leather')\n",
      "0.371445720109 ('Mileage', 'Cylinder', 'Cruise', 'Leather')\n",
      "0.371445720109 ('Mileage', 'Cruise', 'Leather')\n",
      "0.367543578401 ('Mileage', 'Cylinder', 'Liter', 'Sound')\n",
      "0.367543578401 ('Mileage', 'Doors', 'Sound')\n",
      "0.367543578401 ('Mileage', 'Cylinder', 'Doors', 'Sound')\n",
      "0.367543578401 ('Mileage', 'Liter', 'Doors', 'Sound')\n",
      "0.367543578401 ('Mileage', 'Cylinder', 'Liter', 'Doors', 'Sound')\n",
      "0.367543578401 ('Mileage', 'Sound')\n",
      "0.367543578401 ('Mileage', 'Cylinder', 'Sound')\n",
      "0.367543578401 ('Mileage', 'Liter', 'Sound')\n",
      "0.362936700403 ('Mileage', 'Doors', 'Leather')\n",
      "0.362936700403 ('Mileage', 'Cylinder', 'Liter', 'Doors', 'Leather')\n",
      "0.362936700403 ('Mileage', 'Cylinder', 'Doors', 'Leather')\n",
      "0.362936700403 ('Mileage', 'Cylinder', 'Liter', 'Leather')\n",
      "0.362936700403 ('Mileage', 'Cylinder', 'Leather')\n",
      "0.362936700403 ('Mileage', 'Liter', 'Leather')\n",
      "0.362936700403 ('Mileage', 'Leather')\n",
      "0.362936700403 ('Mileage', 'Liter', 'Doors', 'Leather')\n",
      "0.348663551541 ('Mileage', 'Cylinder', 'Liter', 'Doors', 'Cruise')\n",
      "0.348663551541 ('Mileage', 'Cruise')\n",
      "0.348663551541 ('Mileage', 'Cylinder', 'Cruise')\n",
      "0.348663551541 ('Mileage', 'Cylinder', 'Liter', 'Cruise')\n",
      "0.348663551541 ('Mileage', 'Liter', 'Cruise')\n",
      "0.348663551541 ('Mileage', 'Liter', 'Doors', 'Cruise')\n",
      "0.348663551541 ('Mileage', 'Cylinder', 'Doors', 'Cruise')\n",
      "0.348663551541 ('Mileage', 'Doors', 'Cruise')\n",
      "0.337234810317 ('Mileage', 'Liter')\n",
      "0.337234810317 ('Mileage', 'Cylinder')\n",
      "0.337234810317 ('Mileage', 'Doors')\n",
      "0.337234810317 ('Mileage', 'Cylinder', 'Liter', 'Doors')\n",
      "0.337234810317 ('Mileage', 'Cylinder', 'Liter')\n",
      "0.337234810317 ('Mileage',)\n",
      "0.337234810317 ('Mileage', 'Cylinder', 'Doors')\n",
      "0.337234810317 ('Mileage', 'Liter', 'Doors')\n",
      "0.0450709776595 ('Liter', 'Doors', 'Cruise', 'Sound', 'Leather')\n",
      "0.0450709776595 ('Liter', 'Cruise', 'Sound', 'Leather')\n",
      "0.0450709776595 ('Cruise', 'Sound', 'Leather')\n",
      "0.0450709776595 ('Cylinder', 'Doors', 'Cruise', 'Sound', 'Leather')\n",
      "0.0450709776595 ('Cylinder', 'Cruise', 'Sound', 'Leather')\n",
      "0.0450709776595 ('Doors', 'Cruise', 'Sound', 'Leather')\n",
      "0.045069946222 ('Cylinder', 'Liter', 'Doors', 'Cruise', 'Sound', 'Leather')\n",
      "0.0450598518085 ('Cylinder', 'Liter', 'Cruise', 'Sound', 'Leather')\n",
      "0.0413420576569 ('Cylinder', 'Doors', 'Sound', 'Leather')\n",
      "0.0413420576569 ('Sound', 'Leather')\n",
      "0.0413420576569 ('Liter', 'Doors', 'Sound', 'Leather')\n",
      "0.0413420576569 ('Cylinder', 'Sound', 'Leather')\n",
      "0.0413420576569 ('Liter', 'Sound', 'Leather')\n",
      "0.0413420576569 ('Doors', 'Sound', 'Leather')\n",
      "0.0413417311359 ('Cylinder', 'Liter', 'Doors', 'Sound', 'Leather')\n",
      "0.0413416563014 ('Cylinder', 'Liter', 'Sound', 'Leather')\n",
      "0.0287793818608 ('Cruise', 'Sound')\n",
      "0.0287793818608 ('Cylinder', 'Doors', 'Cruise', 'Sound')\n",
      "0.0287793818608 ('Doors', 'Cruise', 'Sound')\n",
      "0.0287793818608 ('Liter', 'Cruise', 'Sound')\n",
      "0.0287793818608 ('Liter', 'Doors', 'Cruise', 'Sound')\n",
      "0.0287793818608 ('Cylinder', 'Cruise', 'Sound')\n",
      "0.0287707957443 ('Cylinder', 'Liter', 'Cruise', 'Sound')\n",
      "0.0287586440646 ('Cylinder', 'Liter', 'Doors', 'Cruise', 'Sound')\n",
      "0.0267073085869 ('Liter', 'Doors', 'Cruise', 'Leather')\n",
      "0.0267073085869 ('Liter', 'Cruise', 'Leather')\n",
      "0.0267073085869 ('Cruise', 'Leather')\n",
      "0.0267073085869 ('Cylinder', 'Doors', 'Cruise', 'Leather')\n",
      "0.0267073085869 ('Doors', 'Cruise', 'Leather')\n",
      "0.0267073085869 ('Cylinder', 'Cruise', 'Leather')\n",
      "0.0267031106017 ('Cylinder', 'Liter', 'Cruise', 'Leather')\n",
      "0.0267001846528 ('Cylinder', 'Liter', 'Doors', 'Cruise', 'Leather')\n",
      "0.0233672640077 ('Liter', 'Doors', 'Leather')\n",
      "0.0233672640077 ('Liter', 'Leather')\n",
      "0.0233672640077 ('Cylinder', 'Leather')\n",
      "0.0233672640077 ('Cylinder', 'Doors', 'Leather')\n",
      "0.0233672640077 ('Leather',)\n",
      "0.0233672640077 ('Doors', 'Leather')\n",
      "0.0233672385499 ('Cylinder', 'Liter', 'Leather')\n",
      "0.023366041038 ('Cylinder', 'Liter', 'Doors', 'Leather')\n",
      "0.0233353013506 ('Liter', 'Sound')\n",
      "0.0233353013506 ('Cylinder', 'Sound')\n",
      "0.0233353013506 ('Sound',)\n",
      "0.0233353013506 ('Cylinder', 'Doors', 'Sound')\n",
      "0.0233353013506 ('Doors', 'Sound')\n",
      "0.0233353013506 ('Liter', 'Doors', 'Sound')\n",
      "0.0233334159536 ('Cylinder', 'Liter', 'Doors', 'Sound')\n",
      "0.023330333774 ('Cylinder', 'Liter', 'Sound')\n",
      "0.00518297688338 ('Doors', 'Cruise')\n",
      "0.00518297688338 ('Liter', 'Doors', 'Cruise')\n",
      "0.00518297688338 ('Cruise',)\n",
      "0.00518297688338 ('Liter', 'Cruise')\n",
      "0.00518297688338 ('Cylinder', 'Cruise')\n",
      "0.00518297688338 ('Cylinder', 'Doors', 'Cruise')\n",
      "0.0051829193274 ('Cylinder', 'Liter', 'Cruise')\n",
      "0.00518283811391 ('Cylinder', 'Liter', 'Doors', 'Cruise')\n",
      "0.0 ('Cylinder',)\n",
      "0.0 ('Doors',)\n",
      "0.0 ('Cylinder', 'Doors')\n",
      "-2.22044604925e-16 ('Liter', 'Doors')\n",
      "-2.22044604925e-16 ('Cylinder', 'Liter', 'Doors')\n",
      "-2.22044604925e-16 ('Cylinder', 'Liter')\n",
      "-2.22044604925e-16 ('Liter',)\n"
     ]
    }
   ],
   "source": [
    "combos2 = get_combos(car_features)\n",
    "combo_scores2 = all_combo_scores(combos2, df[df['Model'] == 'AVEO'])\n",
    "score_list2 = sorted(combo_scores2.items(), key=lambda c: c[1], reverse=True)\n",
    "for score in score_list2:\n",
    "    print(score[1], score[0])"
   ]
  },
  {
   "cell_type": "code",
   "execution_count": 14,
   "metadata": {
    "collapsed": false
   },
   "outputs": [
    {
     "data": {
      "text/html": [
       "<div>\n",
       "<table border=\"1\" class=\"dataframe\">\n",
       "  <thead>\n",
       "    <tr style=\"text-align: right;\">\n",
       "      <th></th>\n",
       "      <th>Price</th>\n",
       "      <th>Mileage</th>\n",
       "      <th>Trim</th>\n",
       "      <th>Cylinder</th>\n",
       "      <th>Liter</th>\n",
       "      <th>Doors</th>\n",
       "      <th>Cruise</th>\n",
       "      <th>Sound</th>\n",
       "      <th>Leather</th>\n",
       "      <th>Buick</th>\n",
       "      <th>Cadillac</th>\n",
       "      <th>Chevrolet</th>\n",
       "      <th>Pontiac</th>\n",
       "      <th>SAAB</th>\n",
       "      <th>Saturn</th>\n",
       "      <th>9-2X AWD</th>\n",
       "      <th>9_3</th>\n",
       "      <th>9_3 HO</th>\n",
       "      <th>9_5</th>\n",
       "      <th>9_5 HO</th>\n",
       "      <th>AVEO</th>\n",
       "      <th>Bonneville</th>\n",
       "      <th>CST-V</th>\n",
       "      <th>CTS</th>\n",
       "      <th>Cavalier</th>\n",
       "      <th>Century</th>\n",
       "      <th>Classic</th>\n",
       "      <th>Cobalt</th>\n",
       "      <th>Corvette</th>\n",
       "      <th>Deville</th>\n",
       "      <th>G6</th>\n",
       "      <th>GTO</th>\n",
       "      <th>Grand Am</th>\n",
       "      <th>Grand Prix</th>\n",
       "      <th>Impala</th>\n",
       "      <th>Ion</th>\n",
       "      <th>L Series</th>\n",
       "      <th>Lacrosse</th>\n",
       "      <th>Lesabre</th>\n",
       "      <th>Malibu</th>\n",
       "      <th>Monte Carlo</th>\n",
       "      <th>Park Avenue</th>\n",
       "      <th>STS-V6</th>\n",
       "      <th>STS-V8</th>\n",
       "      <th>Sunfire</th>\n",
       "      <th>Vibe</th>\n",
       "      <th>XLR-V8</th>\n",
       "      <th>Convertible</th>\n",
       "      <th>Coupe</th>\n",
       "      <th>Hatchback</th>\n",
       "      <th>Sedan</th>\n",
       "      <th>Wagon</th>\n",
       "    </tr>\n",
       "  </thead>\n",
       "  <tbody>\n",
       "    <tr>\n",
       "      <th>0</th>\n",
       "      <td>17314.103129</td>\n",
       "      <td>8221</td>\n",
       "      <td>Sedan 4D</td>\n",
       "      <td>6</td>\n",
       "      <td>3.1</td>\n",
       "      <td>4</td>\n",
       "      <td>1</td>\n",
       "      <td>1</td>\n",
       "      <td>1</td>\n",
       "      <td>1</td>\n",
       "      <td>0</td>\n",
       "      <td>0</td>\n",
       "      <td>0</td>\n",
       "      <td>0</td>\n",
       "      <td>0</td>\n",
       "      <td>0</td>\n",
       "      <td>0</td>\n",
       "      <td>0</td>\n",
       "      <td>0</td>\n",
       "      <td>0</td>\n",
       "      <td>0</td>\n",
       "      <td>0</td>\n",
       "      <td>0</td>\n",
       "      <td>0</td>\n",
       "      <td>0</td>\n",
       "      <td>1</td>\n",
       "      <td>0</td>\n",
       "      <td>0</td>\n",
       "      <td>0</td>\n",
       "      <td>0</td>\n",
       "      <td>0</td>\n",
       "      <td>0</td>\n",
       "      <td>0</td>\n",
       "      <td>0</td>\n",
       "      <td>0</td>\n",
       "      <td>0</td>\n",
       "      <td>0</td>\n",
       "      <td>0</td>\n",
       "      <td>0</td>\n",
       "      <td>0</td>\n",
       "      <td>0</td>\n",
       "      <td>0</td>\n",
       "      <td>0</td>\n",
       "      <td>0</td>\n",
       "      <td>0</td>\n",
       "      <td>0</td>\n",
       "      <td>0</td>\n",
       "      <td>0</td>\n",
       "      <td>0</td>\n",
       "      <td>0</td>\n",
       "      <td>1</td>\n",
       "      <td>0</td>\n",
       "    </tr>\n",
       "  </tbody>\n",
       "</table>\n",
       "</div>"
      ],
      "text/plain": [
       "          Price  Mileage      Trim  Cylinder  Liter  Doors  Cruise  Sound  \\\n",
       "0  17314.103129     8221  Sedan 4D         6    3.1      4       1      1   \n",
       "\n",
       "   Leather  Buick  Cadillac  Chevrolet  Pontiac  SAAB  Saturn  9-2X AWD  9_3  \\\n",
       "0        1      1         0          0        0     0       0         0    0   \n",
       "\n",
       "   9_3 HO  9_5  9_5 HO  AVEO  Bonneville  CST-V  CTS  Cavalier  Century  \\\n",
       "0       0    0       0     0           0      0    0         0        1   \n",
       "\n",
       "   Classic  Cobalt  Corvette  Deville  G6  GTO  Grand Am  Grand Prix  Impala  \\\n",
       "0        0       0         0        0   0    0         0           0       0   \n",
       "\n",
       "   Ion  L Series  Lacrosse  Lesabre  Malibu  Monte Carlo  Park Avenue  STS-V6  \\\n",
       "0    0         0         0        0       0            0            0       0   \n",
       "\n",
       "   STS-V8  Sunfire  Vibe  XLR-V8  Convertible  Coupe  Hatchback  Sedan  Wagon  \n",
       "0       0        0     0       0            0      0          0      1      0  "
      ]
     },
     "execution_count": 14,
     "metadata": {},
     "output_type": "execute_result"
    }
   ],
   "source": [
    "df_mmt = df.copy()\n",
    "\n",
    "df_make = pd.get_dummies(df['Make'])\n",
    "df_mmt[list(df_make.columns)] = df_make\n",
    "df_mmt.pop('Make')\n",
    "\n",
    "df_model = pd.get_dummies(df['Model'])\n",
    "df_mmt[list(df_model.columns)] = df_model\n",
    "df_mmt.pop('Model')\n",
    "\n",
    "df_type = pd.get_dummies(df['Type'])\n",
    "df_mmt[list(df_type.columns)] = df_type\n",
    "df_mmt.pop('Type')\n",
    "\n",
    "pd.set_option('display.max_columns', None)\n",
    "df_mmt.head(1)"
   ]
  },
  {
   "cell_type": "markdown",
   "metadata": {
    "collapsed": true
   },
   "source": [
    "We'll still look at car_features and price, but data frame is bigger."
   ]
  },
  {
   "cell_type": "code",
   "execution_count": 36,
   "metadata": {
    "collapsed": false
   },
   "outputs": [],
   "source": [
    "columns = list(df_make.columns)\n",
    "columns.extend(df_model.columns)\n",
    "columns.extend(df_type.columns)\n",
    "input_cols = []\n",
    "for item in columns:\n",
    "    input_cols.append([item])"
   ]
  },
  {
   "cell_type": "code",
   "execution_count": 38,
   "metadata": {
    "collapsed": false
   },
   "outputs": [
    {
     "name": "stdout",
     "output_type": "stream",
     "text": [
      "0.695232618809 SAAB\n",
      "0.568121299073 Convertible\n",
      "0.513646573061 Cadillac\n",
      "0.465491428861 XLR-V8\n",
      "0.454172870559 9_3 HO\n",
      "0.443404983387 Chevrolet\n",
      "0.419931892199 9_5\n",
      "0.385899305417 9_3\n",
      "0.384781331968 Pontiac\n",
      "0.384125404628 Malibu\n",
      "0.383246130313 Wagon\n",
      "0.380153896568 9_5 HO\n",
      "0.371739029404 Hatchback\n",
      "0.366155000165 AVEO\n",
      "0.361478650665 STS-V6\n",
      "0.361375047993 CST-V\n",
      "0.36069237115 Coupe\n",
      "0.359811012447 Sedan\n",
      "0.355214379733 Grand Prix\n",
      "0.355068424796 Bonneville\n",
      "0.354559921432 STS-V8\n",
      "0.35320022497 Buick\n",
      "0.352468506337 Corvette\n",
      "0.350453562667 Saturn\n",
      "0.349861613377 Cavalier\n",
      "0.349156551284 Century\n",
      "0.348597723248 L Series\n",
      "0.348566781285 Grand Am\n",
      "0.347637611508 Monte Carlo\n",
      "0.347132473242 Impala\n",
      "0.346880944097 Deville\n",
      "0.345508003258 G6\n",
      "0.344901633137 Lesabre\n",
      "0.34461279024 Ion\n",
      "0.344001016336 CTS\n",
      "0.34388152478 Cobalt\n",
      "0.343420755481 Lacrosse\n",
      "0.343399589777 9-2X AWD\n",
      "0.341374156159 Sunfire\n",
      "0.341071380668 GTO\n",
      "0.340632029199 Classic\n",
      "0.339879245132 Vibe\n",
      "0.339864515127 Park Avenue\n"
     ]
    }
   ],
   "source": [
    "# combo_twos = list(combinations(car_features, 2))\n",
    "car_data = {}\n",
    "for item in input_cols:\n",
    "    item.extend(['Mileage', 'Cylinder'])\n",
    "    car_data[item[0]] = lin_reg_wrt_focus(item, df_mmt)\n",
    "\n",
    "score_list2 = sorted(car_data.items(), key=lambda c: c[1], reverse=True)\n",
    "for score in score_list2:\n",
    "    print(score[1], score[0])"
   ]
  },
  {
   "cell_type": "code",
   "execution_count": null,
   "metadata": {
    "collapsed": false
   },
   "outputs": [],
   "source": []
  }
 ],
 "metadata": {
  "kernelspec": {
   "display_name": "Python 3",
   "language": "python",
   "name": "python3"
  },
  "language_info": {
   "codemirror_mode": {
    "name": "ipython",
    "version": 3
   },
   "file_extension": ".py",
   "mimetype": "text/x-python",
   "name": "python",
   "nbconvert_exporter": "python",
   "pygments_lexer": "ipython3",
   "version": "3.4.3"
  }
 },
 "nbformat": 4,
 "nbformat_minor": 0
}
