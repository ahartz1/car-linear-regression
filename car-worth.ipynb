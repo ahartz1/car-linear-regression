{
 "cells": [
  {
   "cell_type": "code",
   "execution_count": 19,
   "metadata": {
    "collapsed": true
   },
   "outputs": [],
   "source": [
    "import pandas as pd\n",
    "import matplotlib.pyplot as plt\n",
    "import numpy as np\n",
    "from sklearn import linear_model\n",
    "from itertools import combinations\n",
    "\n",
    "%matplotlib inline"
   ]
  },
  {
   "cell_type": "markdown",
   "metadata": {},
   "source": [
    "# How Much is Your Car Worth?\n",
    "\n",
    "Data about the retail price of 2005 General Motors cars can be found in `car_data.csv`.\n",
    "\n",
    "The columns are:\n",
    "\n",
    "1. Price: suggested retail price of the used 2005 GM car in excellent condition.\n",
    "2. Mileage: number of miles the car has been driven\n",
    "3. Make: manufacturer of the car such as Saturn, Pontiac, and Chevrolet\n",
    "4. Model: specific models for each car manufacturer such as Ion, Vibe, Cavalier\n",
    "5. Trim (of car): specific type of car model such as SE Sedan 4D, Quad Coupe 2D          \n",
    "6. Type: body type such as sedan, coupe, etc.      \n",
    "7. Cylinder: number of cylinders in the engine        \n",
    "8. Liter: a more specific measure of engine size     \n",
    "9. Doors: number of doors           \n",
    "10. Cruise: indicator variable representing whether the car has cruise control (1 = cruise)\n",
    "11. Sound: indicator variable representing whether the car has upgraded speakers (1 = upgraded)\n",
    "12. Leather: indicator variable representing whether the car has leather seats (1 = leather)\n",
    "\n",
    "## Tasks, Part 1\n",
    "\n",
    "1. Find the linear regression equation for mileage vs price.\n",
    "2. Chart the original data and the equation on the chart.\n",
    "3. Find the equation's $R^2$ score (use the `.score` method) to determine whether the\n",
    "equation is a good fit for this data. (0.8 and greater is considered a strong correlation.)"
   ]
  },
  {
   "cell_type": "code",
   "execution_count": 3,
   "metadata": {
    "collapsed": false
   },
   "outputs": [
    {
     "data": {
      "text/html": [
       "<div>\n",
       "<table border=\"1\" class=\"dataframe\">\n",
       "  <thead>\n",
       "    <tr style=\"text-align: right;\">\n",
       "      <th></th>\n",
       "      <th>Price</th>\n",
       "      <th>Mileage</th>\n",
       "      <th>Make</th>\n",
       "      <th>Model</th>\n",
       "      <th>Trim</th>\n",
       "      <th>Type</th>\n",
       "      <th>Cylinder</th>\n",
       "      <th>Liter</th>\n",
       "      <th>Doors</th>\n",
       "      <th>Cruise</th>\n",
       "      <th>Sound</th>\n",
       "      <th>Leather</th>\n",
       "    </tr>\n",
       "  </thead>\n",
       "  <tbody>\n",
       "    <tr>\n",
       "      <th>0</th>\n",
       "      <td>17314.103129</td>\n",
       "      <td>8221</td>\n",
       "      <td>Buick</td>\n",
       "      <td>Century</td>\n",
       "      <td>Sedan 4D</td>\n",
       "      <td>Sedan</td>\n",
       "      <td>6</td>\n",
       "      <td>3.1</td>\n",
       "      <td>4</td>\n",
       "      <td>1</td>\n",
       "      <td>1</td>\n",
       "      <td>1</td>\n",
       "    </tr>\n",
       "  </tbody>\n",
       "</table>\n",
       "</div>"
      ],
      "text/plain": [
       "          Price  Mileage   Make    Model      Trim   Type  Cylinder  Liter  \\\n",
       "0  17314.103129     8221  Buick  Century  Sedan 4D  Sedan         6    3.1   \n",
       "\n",
       "   Doors  Cruise  Sound  Leather  \n",
       "0      4       1      1        1  "
      ]
     },
     "execution_count": 3,
     "metadata": {},
     "output_type": "execute_result"
    }
   ],
   "source": [
    "df = pd.read_csv(\"car_data.csv\")\n",
    "df.head(1)"
   ]
  },
  {
   "cell_type": "markdown",
   "metadata": {},
   "source": [
    "#### Tasks, Part 1.1"
   ]
  },
  {
   "cell_type": "code",
   "execution_count": 5,
   "metadata": {
    "collapsed": false
   },
   "outputs": [
    {
     "name": "stdout",
     "output_type": "stream",
     "text": [
      "-0.17252050279124917 * Price + 24764.56\n"
     ]
    }
   ],
   "source": [
    "regr_mp = linear_model.LinearRegression()\n",
    "mileage = df[['Mileage']]\n",
    "price = df['Price']\n",
    "regr_mp.fit(mileage, price)\n",
    "print('{} * Price + {:.2f}'.format(regr_mp.coef_[0], regr_mp.intercept_))"
   ]
  },
  {
   "cell_type": "markdown",
   "metadata": {},
   "source": [
    "#### Tasks, Part 1.2"
   ]
  },
  {
   "cell_type": "code",
   "execution_count": 14,
   "metadata": {
    "collapsed": false
   },
   "outputs": [
    {
     "data": {
      "image/png": "[encoded data removed]",
      "text/plain": [
       "<matplotlib.figure.Figure at 0x111ee6470>"
      ]
     },
     "metadata": {},
     "output_type": "display_data"
    }
   ],
   "source": [
    "plt.scatter(x=mileage, y=price)\n",
    "plt.plot(mileage, regr_mp.predict(mileage))\n",
    "plt.title('Mileage vs Price')\n",
    "plt.xlabel('Mileage')\n",
    "plt.ylabel('Price')\n",
    "plt.show()"
   ]
  },
  {
   "cell_type": "markdown",
   "metadata": {},
   "source": [
    "#### Tasks, Part 1.3"
   ]
  },
  {
   "cell_type": "code",
   "execution_count": 16,
   "metadata": {
    "collapsed": false
   },
   "outputs": [
    {
     "name": "stdout",
     "output_type": "stream",
     "text": [
      "Score of linear regression: 0.02046\n"
     ]
    }
   ],
   "source": [
    "print('Score of linear regression: {:.5f}'\n",
    "      .format(regr_mp.score(mileage, price)))"
   ]
  },
  {
   "cell_type": "markdown",
   "metadata": {},
   "source": [
    "The score is nowhere near 0.8; this is not a good fit for our data."
   ]
  },
  {
   "cell_type": "markdown",
   "metadata": {},
   "source": [
    "## Tasks, Part 2\n",
    "\n",
    "1. Use mileage, cylinders, liters, doors, cruise, sound, and leather to find the linear regression equation.\n",
    "2. Find the equation's $R^2$ score (use the `.score` method) to determine whether the\n",
    "equation is a good fit for this data. (0.8 and greater is considered a strong correlation.)\n",
    "3. Find the combination of the factors that is the best predictor for price."
   ]
  },
  {
   "cell_type": "code",
   "execution_count": 18,
   "metadata": {
    "collapsed": false
   },
   "outputs": [
    {
     "data": {
      "text/html": [
       "<div>\n",
       "<table border=\"1\" class=\"dataframe\">\n",
       "  <thead>\n",
       "    <tr style=\"text-align: right;\">\n",
       "      <th></th>\n",
       "      <th>Price</th>\n",
       "      <th>Mileage</th>\n",
       "      <th>Make</th>\n",
       "      <th>Model</th>\n",
       "      <th>Trim</th>\n",
       "      <th>Type</th>\n",
       "      <th>Cylinder</th>\n",
       "      <th>Liter</th>\n",
       "      <th>Doors</th>\n",
       "      <th>Cruise</th>\n",
       "      <th>Sound</th>\n",
       "      <th>Leather</th>\n",
       "    </tr>\n",
       "  </thead>\n",
       "  <tbody>\n",
       "    <tr>\n",
       "      <th>0</th>\n",
       "      <td>17314.103129</td>\n",
       "      <td>8221</td>\n",
       "      <td>Buick</td>\n",
       "      <td>Century</td>\n",
       "      <td>Sedan 4D</td>\n",
       "      <td>Sedan</td>\n",
       "      <td>6</td>\n",
       "      <td>3.1</td>\n",
       "      <td>4</td>\n",
       "      <td>1</td>\n",
       "      <td>1</td>\n",
       "      <td>1</td>\n",
       "    </tr>\n",
       "  </tbody>\n",
       "</table>\n",
       "</div>"
      ],
      "text/plain": [
       "          Price  Mileage   Make    Model      Trim   Type  Cylinder  Liter  \\\n",
       "0  17314.103129     8221  Buick  Century  Sedan 4D  Sedan         6    3.1   \n",
       "\n",
       "   Doors  Cruise  Sound  Leather  \n",
       "0      4       1      1        1  "
      ]
     },
     "execution_count": 18,
     "metadata": {},
     "output_type": "execute_result"
    }
   ],
   "source": [
    "df.head(1)"
   ]
  },
  {
   "cell_type": "code",
   "execution_count": 40,
   "metadata": {
    "collapsed": true
   },
   "outputs": [],
   "source": [
    "car_features = ['Mileage', 'Cylinder', 'Liter', 'Doors', 'Cruise', 'Sound', 'Leather']\n"
   ]
  },
  {
   "cell_type": "code",
   "execution_count": 77,
   "metadata": {
    "collapsed": false
   },
   "outputs": [],
   "source": [
    "def lin_reg_eq(cols, df, focus='Price', print_this=False):\n",
    "    input_cols = df[cols]\n",
    "    focus_output = df[focus]\n",
    "    regr = linear_model.LinearRegression()\n",
    "    regr.fit(input_cols, focus_output)\n",
    "    if print_this:\n",
    "        print('The equation for columns {} w.r.t. {}:\\n'.format(cols, focus))\n",
    "        for n, x in enumerate(cols):\n",
    "            print('({} * {}) + '.format(regr.coef_[n], x), end='')\n",
    "        print('{}'.format(regr.intercept_))\n",
    "    return regr"
   ]
  },
  {
   "cell_type": "markdown",
   "metadata": {},
   "source": [
    "#### Tasks, Part 2.1"
   ]
  },
  {
   "cell_type": "code",
   "execution_count": 79,
   "metadata": {
    "collapsed": false
   },
   "outputs": [
    {
     "name": "stdout",
     "output_type": "stream",
     "text": [
      "The equation for columns ['Mileage', 'Cylinder', 'Liter', 'Doors', 'Cruise', 'Sound', 'Leather'] w.r.t. Price:\n",
      "\n",
      "(-0.16974783233303678 * Mileage) + (3792.3789307825145 * Cylinder) + (-787.2207316338258 * Liter) + (-1542.7458463820647 * Doors) + (6288.997149849924 * Cruise) + (-1993.7952756984287 * Sound) + (3349.3616196135545 * Leather) + 6758.755143598082\n"
     ]
    }
   ],
   "source": [
    "regr_features = lin_reg_eq(car_features, df, print_this=True)"
   ]
  },
  {
   "cell_type": "markdown",
   "metadata": {},
   "source": [
    "#### Tasks, Part 2.2"
   ]
  },
  {
   "cell_type": "code",
   "execution_count": 82,
   "metadata": {
    "collapsed": false
   },
   "outputs": [
    {
     "name": "stdout",
     "output_type": "stream",
     "text": [
      "Score of the above linear regression: 0.4462643536728379\n"
     ]
    }
   ],
   "source": [
    "print('Score of the above linear regression: {}'\n",
    "      .format(regr_features.score(df[car_features], df['Price'])))"
   ]
  },
  {
   "cell_type": "code",
   "execution_count": 28,
   "metadata": {
    "collapsed": true
   },
   "outputs": [],
   "source": [
    "def lin_reg_wrt_focus(cols, df, focus='Price'):\n",
    "    input_cols = df[cols]\n",
    "    focus_output = df[focus]\n",
    "    regr = linear_model.LinearRegression()\n",
    "    regr.fit(input_cols, focus_output)\n",
    "    return regr.score(input_cols, focus_output)\n",
    "\n",
    "def get_combos(cols):\n",
    "    return [combinations(cols, n + 1) for n in range(len(cols))]\n",
    "\n",
    "def all_combo_scores(combos, df, focus='Price'):\n",
    "    combo_scores = {}\n",
    "    for m in range(len(list(combos))):\n",
    "        for n in list(combos[m]):\n",
    "            combo_scores[lin_reg_wrt_focus(list(n), df, focus)] = n\n",
    "    return combo_scores"
   ]
  },
  {
   "cell_type": "markdown",
   "metadata": {},
   "source": [
    "#### Tasks, Part 2.3"
   ]
  },
  {
   "cell_type": "code",
   "execution_count": 29,
   "metadata": {
    "collapsed": false
   },
   "outputs": [
    {
     "data": {
      "text/plain": [
       "[(0.4462643536728379,\n",
       "  ('Mileage', 'Cylinder', 'Liter', 'Doors', 'Cruise', 'Sound', 'Leather')),\n",
       " (0.44569092105870245,\n",
       "  ('Mileage', 'Cylinder', 'Doors', 'Cruise', 'Sound', 'Leather')),\n",
       " (0.43780574153663798,\n",
       "  ('Mileage', 'Cylinder', 'Liter', 'Doors', 'Cruise', 'Leather')),\n",
       " (0.4369402151237245, ('Mileage', 'Cylinder', 'Doors', 'Cruise', 'Leather')),\n",
       " (0.43014148406475605,\n",
       "  ('Mileage', 'Cylinder', 'Liter', 'Cruise', 'Sound', 'Leather')),\n",
       " (0.43001820483252673, ('Mileage', 'Cylinder', 'Cruise', 'Sound', 'Leather')),\n",
       " (0.4265348637809262,\n",
       "  ('Cylinder', 'Liter', 'Doors', 'Cruise', 'Sound', 'Leather')),\n",
       " (0.42576813279744208, ('Cylinder', 'Doors', 'Cruise', 'Sound', 'Leather')),\n",
       " (0.42482840454267845,\n",
       "  ('Mileage', 'Liter', 'Doors', 'Cruise', 'Sound', 'Leather')),\n",
       " (0.42441824017998753,\n",
       "  ('Mileage', 'Cylinder', 'Liter', 'Doors', 'Cruise', 'Sound')),\n",
       " (0.42409748258510394, ('Mileage', 'Cylinder', 'Doors', 'Cruise', 'Sound')),\n",
       " (0.4225307670398466, ('Mileage', 'Cylinder', 'Liter', 'Cruise', 'Leather')),\n",
       " (0.42250742147747633, ('Mileage', 'Cylinder', 'Cruise', 'Leather')),\n",
       " (0.41965804777032423, ('Mileage', 'Cylinder', 'Liter', 'Doors', 'Cruise')),\n",
       " (0.41914964510731778, ('Mileage', 'Cylinder', 'Doors', 'Cruise')),\n",
       " (0.41883942180571321, ('Cylinder', 'Liter', 'Doors', 'Cruise', 'Leather')),\n",
       " (0.41776027370197188, ('Cylinder', 'Doors', 'Cruise', 'Leather')),\n",
       " (0.41650804904235117, ('Mileage', 'Liter', 'Cruise', 'Sound', 'Leather')),\n",
       " (0.41400922316303501, ('Mileage', 'Liter', 'Doors', 'Cruise', 'Leather')),\n",
       " (0.41070295264410461, ('Cylinder', 'Liter', 'Cruise', 'Sound', 'Leather')),\n",
       " (0.41065494158588822, ('Cylinder', 'Cruise', 'Sound', 'Leather')),\n",
       " (0.40678789687026884, ('Mileage', 'Liter', 'Cruise', 'Leather')),\n",
       " (0.40654915865835195, ('Mileage', 'Cylinder', 'Liter', 'Cruise', 'Sound')),\n",
       " (0.4061644982625815, ('Mileage', 'Cylinder', 'Cruise', 'Sound')),\n",
       " (0.40509275150578561, ('Cylinder', 'Liter', 'Doors', 'Cruise', 'Sound')),\n",
       " (0.40462307098659855, ('Cylinder', 'Doors', 'Cruise', 'Sound')),\n",
       " (0.40380376425767606, ('Cylinder', 'Liter', 'Cruise', 'Leather')),\n",
       " (0.40380272693971553, ('Cylinder', 'Cruise', 'Leather')),\n",
       " (0.40346337208358085, ('Liter', 'Doors', 'Cruise', 'Sound', 'Leather')),\n",
       " (0.40312131702115361, ('Mileage', 'Liter', 'Doors', 'Cruise', 'Sound')),\n",
       " (0.40258426189243079, ('Mileage', 'Cylinder', 'Liter', 'Cruise')),\n",
       " (0.40237458603160192, ('Mileage', 'Cylinder', 'Cruise')),\n",
       " (0.40087486932703054, ('Cylinder', 'Liter', 'Doors', 'Cruise')),\n",
       " (0.4001989079545567, ('Cylinder', 'Doors', 'Cruise')),\n",
       " (0.39653266980131807, ('Mileage', 'Liter', 'Doors', 'Cruise')),\n",
       " (0.39564260736568424, ('Liter', 'Cruise', 'Sound', 'Leather')),\n",
       " (0.39346849142215845, ('Mileage', 'Liter', 'Cruise', 'Sound')),\n",
       " (0.39345887351036224, ('Liter', 'Doors', 'Cruise', 'Leather')),\n",
       " (0.38792398390551597, ('Mileage', 'Liter', 'Cruise')),\n",
       " (0.38754312167360194, ('Cylinder', 'Liter', 'Cruise', 'Sound')),\n",
       " (0.38730580222964561, ('Cylinder', 'Cruise', 'Sound')),\n",
       " (0.38665505937731115, ('Liter', 'Cruise', 'Leather')),\n",
       " (0.38406220085245035, ('Cylinder', 'Liter', 'Cruise')),\n",
       " (0.38394913240273443, ('Cylinder', 'Cruise')),\n",
       " (0.38271504500215792,\n",
       "  ('Mileage', 'Cylinder', 'Liter', 'Doors', 'Sound', 'Leather')),\n",
       " (0.38258521179336924, ('Mileage', 'Cylinder', 'Doors', 'Sound', 'Leather')),\n",
       " (0.38218087776588228, ('Liter', 'Doors', 'Cruise', 'Sound')),\n",
       " (0.37619168053479668, ('Liter', 'Doors', 'Cruise')),\n",
       " (0.37307455961414571, ('Liter', 'Cruise', 'Sound')),\n",
       " (0.37136690890240676, ('Mileage', 'Cylinder', 'Liter', 'Doors', 'Leather')),\n",
       " (0.37133199838451947, ('Mileage', 'Cylinder', 'Doors', 'Leather')),\n",
       " (0.36804584902968451, ('Liter', 'Cruise')),\n",
       " (0.36771522262682865, ('Mileage', 'Cylinder', 'Liter', 'Doors', 'Sound')),\n",
       " (0.36749912969736809, ('Mileage', 'Cylinder', 'Doors', 'Sound')),\n",
       " (0.36529423283997198, ('Mileage', 'Cylinder', 'Liter', 'Sound', 'Leather')),\n",
       " (0.36516944395094464, ('Cylinder', 'Liter', 'Doors', 'Sound', 'Leather')),\n",
       " (0.36511700356207033, ('Cylinder', 'Doors', 'Sound', 'Leather')),\n",
       " (0.36329101174690714, ('Mileage', 'Liter', 'Doors', 'Sound', 'Leather')),\n",
       " (0.36278410378592452, ('Mileage', 'Cylinder', 'Sound', 'Leather')),\n",
       " (0.36012506330270933, ('Mileage', 'Cylinder', 'Liter', 'Doors')),\n",
       " (0.3600299189649302, ('Mileage', 'Cylinder', 'Doors')),\n",
       " (0.35494044305575101, ('Mileage', 'Cylinder', 'Liter', 'Leather')),\n",
       " (0.3547068894092531, ('Cylinder', 'Liter', 'Doors', 'Leather')),\n",
       " (0.35470261300089978, ('Cylinder', 'Doors', 'Leather')),\n",
       " (0.35363153818528126, ('Mileage', 'Liter', 'Sound', 'Leather')),\n",
       " (0.35303578931823965, ('Mileage', 'Cylinder', 'Leather')),\n",
       " (0.35038121816111234, ('Cylinder', 'Liter', 'Doors', 'Sound')),\n",
       " (0.35026993301337672, ('Cylinder', 'Doors', 'Sound')),\n",
       " (0.34940517971815865, ('Mileage', 'Liter', 'Doors', 'Leather')),\n",
       " (0.34885465224422074, ('Mileage', 'Cylinder', 'Liter', 'Sound')),\n",
       " (0.34830222786670784, ('Mileage', 'Liter', 'Doors', 'Sound')),\n",
       " (0.34805583937456297, ('Cylinder', 'Liter', 'Sound', 'Leather')),\n",
       " (0.34598533275416787, ('Cylinder', 'Sound', 'Leather')),\n",
       " (0.34579303945195394, ('Mileage', 'Cylinder', 'Sound')),\n",
       " (0.34423975807564111, ('Liter', 'Doors', 'Sound', 'Leather')),\n",
       " (0.34349547806895953, ('Cylinder', 'Liter', 'Doors')),\n",
       " (0.34346053658303799, ('Cylinder', 'Doors')),\n",
       " (0.34228021178720835, ('Mileage', 'Cylinder', 'Liter')),\n",
       " (0.34105691618639966, ('Mileage', 'Liter', 'Leather')),\n",
       " (0.33982070826367505, ('Mileage', 'Cylinder')),\n",
       " (0.33859102766485816, ('Mileage', 'Liter', 'Doors')),\n",
       " (0.33853269361625415, ('Cylinder', 'Liter', 'Leather')),\n",
       " (0.33752524526419558, ('Mileage', 'Liter', 'Sound')),\n",
       " (0.33698000644980575, ('Cylinder', 'Leather')),\n",
       " (0.33511407076463451, ('Liter', 'Sound', 'Leather')),\n",
       " (0.33184860453157139, ('Cylinder', 'Liter', 'Sound')),\n",
       " (0.33128445385290362, ('Liter', 'Doors', 'Leather')),\n",
       " (0.32947196699054004, ('Liter', 'Doors', 'Sound')),\n",
       " (0.32927527347959384, ('Cylinder', 'Sound')),\n",
       " (0.32912790668541569, ('Mileage', 'Liter')),\n",
       " (0.32591551601566571, ('Cylinder', 'Liter')),\n",
       " (0.32385903759512258, ('Cylinder',)),\n",
       " (0.32337917189904186, ('Liter', 'Leather')),\n",
       " (0.32051564077668337, ('Liter', 'Doors')),\n",
       " (0.31926427639502897, ('Liter', 'Sound')),\n",
       " (0.31152674427904514, ('Liter',)),\n",
       " (0.27282594767567814, ('Mileage', 'Doors', 'Cruise', 'Sound', 'Leather')),\n",
       " (0.25940138565675619, ('Mileage', 'Cruise', 'Sound', 'Leather')),\n",
       " (0.2566547812611919, ('Mileage', 'Doors', 'Cruise', 'Leather')),\n",
       " (0.24744913495807541, ('Doors', 'Cruise', 'Sound', 'Leather')),\n",
       " (0.24484643441472975, ('Mileage', 'Cruise', 'Leather')),\n",
       " (0.23464406340531807, ('Cruise', 'Sound', 'Leather')),\n",
       " (0.23336920288580454, ('Mileage', 'Doors', 'Cruise', 'Sound')),\n",
       " (0.23229120295179528, ('Doors', 'Cruise', 'Leather')),\n",
       " (0.22390314076364659, ('Mileage', 'Doors', 'Cruise')),\n",
       " (0.22100420521798447, ('Cruise', 'Leather')),\n",
       " (0.21721656906779263, ('Mileage', 'Cruise', 'Sound')),\n",
       " (0.2093138558315859, ('Mileage', 'Cruise')),\n",
       " (0.20835368888535311, ('Doors', 'Cruise', 'Sound')),\n",
       " (0.1996382468921617, ('Doors', 'Cruise')),\n",
       " (0.19288948066869627, ('Cruise', 'Sound')),\n",
       " (0.1856330092969275, ('Cruise',)),\n",
       " (0.089337093793707023, ('Mileage', 'Doors', 'Sound', 'Leather')),\n",
       " (0.069659406224365061, ('Mileage', 'Sound', 'Leather')),\n",
       " (0.066873133161888476, ('Doors', 'Sound', 'Leather')),\n",
       " (0.062563921219877083, ('Mileage', 'Doors', 'Leather')),\n",
       " (0.059250543920426613, ('Mileage', 'Doors', 'Sound')),\n",
       " (0.047953690920827241, ('Sound', 'Leather')),\n",
       " (0.045219563408868568, ('Mileage', 'Leather')),\n",
       " (0.041418173468660391, ('Doors', 'Leather')),\n",
       " (0.040399148671187213, ('Mileage', 'Doors')),\n",
       " (0.037016287709034312, ('Doors', 'Sound')),\n",
       " (0.036881215967350056, ('Mileage', 'Sound')),\n",
       " (0.024710851264124534, ('Leather',)),\n",
       " (0.020463447323489481, ('Mileage',)),\n",
       " (0.019251466591467259, ('Doors',)),\n",
       " (0.015462387624189167, ('Sound',))]"
      ]
     },
     "execution_count": 29,
     "metadata": {},
     "output_type": "execute_result"
    }
   ],
   "source": [
    "combos = get_combos(car_features)\n",
    "combo_scores = all_combo_scores(combos, df)\n",
    "sorted(combo_scores.items(), key=lambda c: c[0], reverse=True)"
   ]
  },
  {
   "cell_type": "markdown",
   "metadata": {},
   "source": [
    "#### Tasks, Part 2.3 Conclusion\n",
    "\n",
    "There is no combination that produces a strong correlation. However, the **`Cylinder`** field has a high score on its own: 0.32385903759512258."
   ]
  },
  {
   "cell_type": "markdown",
   "metadata": {},
   "source": [
    "## Tasks, Part 3\n",
    "\n",
    "1. Research dummy variables in scikit-learn to see how to use the make, model, and body type.\n",
    "2. Find the best combination of factors to predict price."
   ]
  },
  {
   "cell_type": "code",
   "execution_count": null,
   "metadata": {
    "collapsed": true
   },
   "outputs": [],
   "source": []
  }
 ],
 "metadata": {
  "kernelspec": {
   "display_name": "Python 3",
   "language": "python",
   "name": "python3"
  },
  "language_info": {
   "codemirror_mode": {
    "name": "ipython",
    "version": 3
   },
   "file_extension": ".py",
   "mimetype": "text/x-python",
   "name": "python",
   "nbconvert_exporter": "python",
   "pygments_lexer": "ipython3",
   "version": "3.4.3"
  }
 },
 "nbformat": 4,
 "nbformat_minor": 0
}
